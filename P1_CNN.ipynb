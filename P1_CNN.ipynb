{
 "cells": [
  {
   "cell_type": "markdown",
   "id": "e307c075",
   "metadata": {},
   "source": [
    "# Práctica Classical Neuronal Networks\n",
    "\n",
    "* Alejandro Mayorga\n",
    "* Fernando Mondragón\n"
   ]
  },
  {
   "cell_type": "code",
   "execution_count": 19,
   "id": "1521cbba",
   "metadata": {},
   "outputs": [],
   "source": [
    "#Primer paso: Cargar la database y distribuir las imágenes de entrenamiento y evaluación\n",
    "\n",
    "from tensorflow . keras . datasets import fashion_mnist\n",
    "from tensorflow.keras.utils import to_categorical\n",
    "from tensorflow import keras\n",
    "from tensorflow.keras import layers\n",
    "\n",
    "\n",
    "#A mayores, cargamos la librería responsable de representar nuestras gráficas\n",
    "\n",
    "import matplotlib.pyplot as plt\n",
    "\n",
    "\n",
    "( x_train , y_train ), ( x_test , y_test ) = fashion_mnist . load_data ()"
   ]
  },
  {
   "cell_type": "code",
   "execution_count": 20,
   "id": "b9cf58c7",
   "metadata": {},
   "outputs": [],
   "source": [
    "#Primeramente, tenemos que preparar los datos de forma que sean fácilmente introducibles en nuestra red. Esto\n",
    "#implica reorganizar el array original en el que se nos es dada la información, así como para su tipo de datos a\n",
    "#float\n",
    "\n",
    "train_images = x_train.reshape((60000, 28 * 28))\n",
    "test_images = x_test.reshape((10000, 28 * 28))\n",
    "\n",
    "train_images = train_images.astype('float32') / 255\n",
    "test_images = test_images.astype('float32') / 255\n",
    "\n"
   ]
  },
  {
   "cell_type": "code",
   "execution_count": 21,
   "id": "7ed81913",
   "metadata": {},
   "outputs": [],
   "source": [
    "#Creamos un tercer grupo de validación\n",
    "\n",
    "validation_images = train_images[:10000] # Copy of x_train from the begining (0) to 9999\n",
    "validation_labels = y_train[:10000]\n",
    "\n",
    "\n",
    "\n",
    "\n",
    "\n",
    "train_images = train_images[10000:] # Copy of x_train from 10000 to the end\n",
    "train_labels = y_train[10000:]"
   ]
  },
  {
   "cell_type": "code",
   "execution_count": 22,
   "id": "5339621c",
   "metadata": {},
   "outputs": [],
   "source": [
    "#Realizamos one-hot enconding para así disponer las etiquetas de forma que la red pueda entrenar\n",
    "\n",
    "train_labels = to_categorical(train_labels)\n",
    "validation_labels = to_categorical(validation_labels)\n",
    "test_labels = to_categorical(y_test)\n"
   ]
  },
  {
   "cell_type": "code",
   "execution_count": 5,
   "id": "b22c1240",
   "metadata": {},
   "outputs": [],
   "source": [
    "#Opciones a probar\n",
    "\n",
    "epoch_n = [10,30]\n",
    "batch_size_n = [32,512]\n",
    "\n",
    "layers_n = [1,2]\n",
    "neurons_n = [16,64,128]\n",
    "learning_rates = [0.1,0.01,0.001]\n",
    "optimizers = [\"rmsprop\",\"Adam\"]\n",
    "\n"
   ]
  },
  {
   "cell_type": "code",
   "execution_count": 13,
   "id": "dd274fb7",
   "metadata": {},
   "outputs": [
    {
     "name": "stderr",
     "output_type": "stream",
     "text": [
      "No artists with labels found to put in legend.  Note that artists whose label start with an underscore are ignored when legend() is called with no argument.\n"
     ]
    },
    {
     "data": {
      "image/png": "[encoded data removed]",
      "text/plain": [
       "<Figure size 640x480 with 1 Axes>"
      ]
     },
     "metadata": {},
     "output_type": "display_data"
    }
   ],
   "source": [
    "\n",
    "\n",
    "#Ahora loopeamos por los hiperparametros\n",
    "#2*2*2*3*3*2 = 144 modelos. Aproximadamente 15s por modelo, aprox 40 min para probar todos\n",
    "\n",
    "\n",
    "counter = 0\n",
    "list_acc = []\n",
    "list_opt = []\n",
    "for epoch in epoch_n: #\n",
    "    for batch in batch_size_n:#\n",
    "        for capas in layers_n: # \n",
    "            for neurons in neurons_n: #\n",
    "                for learning_r in learning_rates:\n",
    "                    for optimizador in optimizers: #\n",
    "                        model = keras.Sequential()\n",
    "\n",
    "                        model.add(layers.Input(shape=(784, )))\n",
    "                        for i in range(capas):\n",
    "                            model.add(layers.Dense(neurons, activation=\"relu\"))\n",
    "\n",
    "                        model.add(layers.Dense(10, activation=\"softmax\"))\n",
    "                        \n",
    "                        if optimizador ==\"rmsprop\":\n",
    "                            opt = keras.optimizers.RMSprop(learning_rate=learning_r)\n",
    "                        if optimizador ==\"Adam\":\n",
    "                            opt = keras.optimizers.Adam(learning_rate=learning_r)\n",
    "                        \n",
    "                        model.compile(optimizer=opt, \n",
    "                                  loss=\"categorical_crossentropy\",\n",
    "                                  metrics=[\"accuracy\"])\n",
    "\n",
    "                        print(len(train_images), len(train_labels))\n",
    "                        history =model.fit(train_images, train_labels, epochs=epoch,verbose=0, batch_size=batch, \n",
    "                            validation_data = (validation_images, validation_labels))\n",
    "                        \n",
    "                        history_dict = history.history\n",
    "                        result_val = max(history_dict['val_accuracy'])\n",
    "                        print()\n",
    "                        \n",
    "#Guardamos todos los modelos  if result[0]< result_val:\n",
    "                        list_acc+=[result_val]\n",
    "                                  \n",
    "                        list_opt+= [\"epoch: \"+ str(epoch)+ \"\\n batch: \" +str(batch)+ \"\\n layers: \" \n",
    "                                    +str(layers)+ \"\\n neurons: \" +str(neurons)]#+ \"\\n learning rate: \" +str(learning rate) +\" optimizador: \" +optimizador]                      \n",
    "                        counter +=1\n",
    "                        print(\"counter:\",counter)     \n",
    "\n",
    "\n",
    "\n",
    "\n",
    "\n",
    "list_acc = range(144)\n",
    "\n",
    "#Mostramos los resultados de las accuracies obtenidas para cada modelo\n",
    "\n",
    "\n",
    "plt.bar(range(len(list_acc)), list_acc)\n",
    "\n",
    "plt.title('Accuracy de los modelos')\n",
    "plt.xlabel('Indice de modelo')\n",
    "plt.ylabel('Accuracy de modelo')\n",
    "plt.legend()\n",
    "plt.show()\n",
    "\n",
    "\n"
   ]
  },
  {
   "cell_type": "code",
   "execution_count": 18,
   "id": "3a23d58b",
   "metadata": {},
   "outputs": [
    {
     "name": "stdout",
     "output_type": "stream",
     "text": [
      "Top  5  model: Accuracy =  5 options:  sadfads\n",
      "Top  4  model: Accuracy =  6 options:  safas\n",
      "Top  3  model: Accuracy =  7 options:  jaaaaaaa\n",
      "Top  2  model: Accuracy =  8 options:  nueve\n",
      "Top  1  model: Accuracy =  9 options:  diez\n",
      "Bottom  5  model: Accuracy =  4 options:  jaja\n",
      "Bottom  4  model: Accuracy =  3 options:  y tu\n",
      "Bottom  3  model: Accuracy =  2 options:  muy bien\n",
      "Bottom  2  model: Accuracy =  1 options:  que tal\n",
      "Bottom  1  model: Accuracy =  0 options:  Hola\n"
     ]
    }
   ],
   "source": [
    "#Nos quedamos con los 5 mejores y peores modelos\n",
    "\n",
    "cut = 5\n",
    "\n",
    "list_acc = range(10)\n",
    "list_opt = [\"Hola\", \"que tal\", \"muy bien\", \"y tu\", \"jaja\", \"sadfads\", \"safas\", \"jaaaaaaa\", \"nueve\", \"diez\"]\n",
    "\n",
    "bottom = sorted(range(len(list_acc)), key=lambda i: list_acc[i], reverse=True)[-cut:]\n",
    "top = sorted(range(len(list_acc)), key=lambda i: list_acc[i])[-cut:]\n",
    "\n",
    "\n",
    "\n",
    "for x in range(cut):\n",
    "    print(\"Top \", cut-x, \" model: Accuracy = \", top[x], \"options: \", list_opt[top[x]])\n",
    "    \n",
    "for y in range(cut):  \n",
    "    print(\"Bottom \", cut-y, \" model: Accuracy = \", bottom[y], \"options: \", list_opt[bottom[y]])\n",
    "\n",
    "\n",
    "#plt.bar(range(len(list_acc)), list_acc)\n",
    "#plt.title('Accuracy de los modelos')\n",
    "#plt.xlabel('Indice de modelo')\n",
    "#plt.ylabel('Accuracy de modelo')\n",
    "#plt.legend()\n",
    "#plt.show()\n",
    "\n",
    "\n"
   ]
  },
  {
   "cell_type": "code",
   "execution_count": 8,
   "id": "9e91c4c3",
   "metadata": {},
   "outputs": [
    {
     "name": "stdout",
     "output_type": "stream",
     "text": [
      "[5, 6, 7, 8, 9]\n"
     ]
    }
   ],
   "source": [
    "\n",
    "\n",
    "\n",
    "#Ahora ejecutamos el modelo sobre los datos de test para ver su accuracy real\n",
    "\n",
    "#TODO Definir el modelo que mejor resultado de y reentrenarlo\n",
    "\n",
    "#results = model.evaluate(x_test, y_test)\n",
    "\n",
    "#print(results)"
   ]
  },
  {
   "cell_type": "markdown",
   "id": "f5d918b8",
   "metadata": {},
   "source": [
    "# REGULARIZACIÓN\n",
    "Ahora vamos a probar algunos de los modelos anteriores utilizando las técnicas de regularización de \"dropout\" y \"batch normalization\" para tratar de obtener mejores resultados."
   ]
  },
  {
   "cell_type": "markdown",
   "id": "9a1c1299",
   "metadata": {},
   "source": [
    "## Dropout"
   ]
  },
  {
   "cell_type": "code",
   "execution_count": null,
   "id": "7269ada1",
   "metadata": {},
   "outputs": [],
   "source": [
    "#dropout\n",
    "\n",
    "#Definir modelo y para implementar el dropout, añadir las capas de Dropout\n",
    "\n",
    "model = models.Sequential()\n",
    "model.add(layers.Dense(16, activation='relu', input_shape=(10000,)))\n",
    "model.add(layers.Dropout(0.2))\n",
    "model.add(layers.Dense(16, activation='relu'))\n",
    "model.add(layers.Dropout(0.2))\n",
    "model.add(layers.Dense(1, activation='sigmoid'))\n",
    "\n",
    "model.summary()\n",
    "\n",
    "\n",
    "#Ejecutar 3 o 4 modelos entre los que esté el mejor obtenido anteriormente"
   ]
  },
  {
   "cell_type": "markdown",
   "id": "593dbe0e",
   "metadata": {},
   "source": [
    "### Resultados del dropout"
   ]
  },
  {
   "cell_type": "markdown",
   "id": "c2393e53",
   "metadata": {},
   "source": [
    "## Batch normalization"
   ]
  },
  {
   "cell_type": "code",
   "execution_count": null,
   "id": "747da55c",
   "metadata": {},
   "outputs": [],
   "source": [
    "#batch normalization\n",
    "\n",
    "#Similarmente al caso anterior, implementamos la batch regularization añadiendo capas intermedias de regularización\n",
    "model = models.Sequential()\n",
    "model.add(layers.Dense(16, activation='relu', input_shape=(10000,)))\n",
    "model.add(layers.BatchNormalization())\n",
    "model.add(layers.Dense(16, activation='relu'))\n",
    "model.add(layers.BatchNormalization())\n",
    "model.add(layers.Dense(1, activation='sigmoid'))\n",
    "\n",
    "model.summary()\n",
    "#Ejecutar 3 o 4 modelos entre los que esté el mejor obtenido anteriormente"
   ]
  },
  {
   "cell_type": "markdown",
   "id": "8e9d4a02",
   "metadata": {},
   "source": [
    "### Resultados de la batch normalization"
   ]
  },
  {
   "cell_type": "code",
   "execution_count": null,
   "id": "72828e4a",
   "metadata": {},
   "outputs": [],
   "source": []
  }
 ],
 "metadata": {
  "kernelspec": {
   "display_name": "Python 3 (ipykernel)",
   "language": "python",
   "name": "python3"
  },
  "language_info": {
   "codemirror_mode": {
    "name": "ipython",
    "version": 3
   },
   "file_extension": ".py",
   "mimetype": "text/x-python",
   "name": "python",
   "nbconvert_exporter": "python",
   "pygments_lexer": "ipython3",
   "version": "3.11.5"
  }
 },
 "nbformat": 4,
 "nbformat_minor": 5
}
